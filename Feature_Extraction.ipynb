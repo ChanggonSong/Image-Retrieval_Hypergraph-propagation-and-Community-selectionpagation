{
 "cells": [
  {
   "cell_type": "code",
   "execution_count": 5,
   "id": "d289a0cb",
   "metadata": {},
   "outputs": [
    {
     "name": "stdout",
     "output_type": "stream",
     "text": [
      "utf-8\n"
     ]
    }
   ],
   "source": [
    "import sys\n",
    "print(sys.getdefaultencoding())"
   ]
  },
  {
   "cell_type": "code",
   "execution_count": 1,
   "id": "ed95c0b4",
   "metadata": {},
   "outputs": [],
   "source": [
    "# DELG feature extractor\n",
    "# https://github.com/tensorflow/models/blob/master/research/delf/delf/python/delg/DELG_INSTRUCTIONS.md\n",
    "import os\n",
    "\n",
    "os.makedirs('delg/data', exist_ok=True)\n",
    "os.chdir('delg/data')"
   ]
  },
  {
   "cell_type": "code",
   "execution_count": 2,
   "id": "3b1f5b62",
   "metadata": {},
   "outputs": [],
   "source": [
    "import urllib.request\n",
    "import tarfile\n",
    "\n",
    "# Oxford 데이터셋 다운로드\n",
    "oxford_url = \"http://www.robots.ox.ac.uk/~vgg/data/oxbuildings/oxbuild_images.tgz\"\n",
    "urllib.request.urlretrieve(oxford_url, \"oxbuild_images.tgz\")\n",
    "\n",
    "# 압축 해제\n",
    "with tarfile.open(\"oxbuild_images.tgz\") as tar:\n",
    "    tar.extractall(\"oxford5k_images/\")"
   ]
  },
  {
   "cell_type": "code",
   "execution_count": 3,
   "id": "1836b5e8",
   "metadata": {},
   "outputs": [],
   "source": [
    "# Paris 데이터셋 다운로드\n",
    "paris_urls = [\n",
    "    \"http://www.robots.ox.ac.uk/~vgg/data/parisbuildings/paris_1.tgz\",\n",
    "    \"http://www.robots.ox.ac.uk/~vgg/data/parisbuildings/paris_2.tgz\"\n",
    "]\n",
    "\n",
    "for url in paris_urls:\n",
    "    file_name = url.split(\"/\")[-1]\n",
    "    urllib.request.urlretrieve(url, file_name)\n",
    "\n",
    "# 압축 해제\n",
    "os.makedirs(\"paris6k_images_tmp\", exist_ok=True)\n",
    "\n",
    "with tarfile.open(\"paris_1.tgz\") as tar:\n",
    "    tar.extractall(\"paris6k_images_tmp/\")\n",
    "with tarfile.open(\"paris_2.tgz\") as tar:\n",
    "    tar.extractall(\"paris6k_images_tmp/\")\n"
   ]
  },
  {
   "cell_type": "code",
   "execution_count": 4,
   "id": "ccc4cf25",
   "metadata": {},
   "outputs": [],
   "source": [
    "# 모든 이미지 같은 디렉토리로 이동\n",
    "os.makedirs(\"paris6k_images\", exist_ok=True)\n",
    "for root, dirs, files in os.walk(\"paris6k_images_tmp/paris\"):\n",
    "    for file in files:\n",
    "        os.rename(os.path.join(root, file), os.path.join(\"paris6k_images\", file))"
   ]
  },
  {
   "cell_type": "code",
   "execution_count": 5,
   "id": "936467f9",
   "metadata": {},
   "outputs": [],
   "source": [
    "#Revisited Annotations\n",
    "revisited_urls = [\n",
    "    \"http://cmp.felk.cvut.cz/revisitop/data/datasets/roxford5k/gnd_roxford5k.mat\",\n",
    "    \"http://cmp.felk.cvut.cz/revisitop/data/datasets/rparis6k/gnd_rparis6k.mat\",\n",
    "    \"http://cmp.felk.cvut.cz/cnnimageretrieval/data/test/roxford5k/gnd_roxford5k.pkl\",\n",
    "    \"http://cmp.felk.cvut.cz/cnnimageretrieval/data/test/rparis6k/gnd_rparis6k.pkl\"\n",
    "]\n",
    "\n",
    "for url in revisited_urls:\n",
    "    file_name = url.split(\"/\")[-1]\n",
    "    urllib.request.urlretrieve(url, file_name)"
   ]
  },
  {
   "cell_type": "code",
   "execution_count": 6,
   "id": "f1ea3f48",
   "metadata": {},
   "outputs": [],
   "source": [
    "# 모델 다운로드\n",
    "model_url = \"http://storage.googleapis.com/delf/r50delg_gld_20200814.tar.gz\"\n",
    "urllib.request.urlretrieve(model_url, \"r50delg_gld_20200814.tar.gz\")\n",
    "\n",
    "# 압축 해제\n",
    "os.makedirs(\"parameters\", exist_ok=True)\n",
    "with tarfile.open(\"r50delg_gld_20200814.tar.gz\") as tar:\n",
    "    tar.extractall(\"parameters/\")"
   ]
  },
  {
   "cell_type": "markdown",
   "id": "4167c779",
   "metadata": {},
   "source": [
    "pwd"
   ]
  },
  {
   "cell_type": "code",
   "execution_count": 113,
   "id": "97b7f411",
   "metadata": {
    "scrolled": false
   },
   "outputs": [
    {
     "name": "stdout",
     "output_type": "stream",
     "text": [
      "done! Found 820 images\n",
      "Starting to extract features...\n",
      "Processing image 51 out of 820, last 50 images took 97.69883179664612 seconds\n",
      "Processing image 101 out of 820, last 50 images took 137.55818700790405 seconds\n",
      "Processing image 151 out of 820, last 50 images took 220.6449592113495 seconds\n",
      "Processing image 201 out of 820, last 50 images took 109.34353613853455 seconds\n",
      "Processing image 251 out of 820, last 50 images took 116.55162334442139 seconds\n",
      "Processing image 301 out of 820, last 50 images took 84.52076411247253 seconds\n",
      "Processing image 351 out of 820, last 50 images took 200.92803502082825 seconds\n",
      "Processing image 401 out of 820, last 50 images took 209.58974194526672 seconds\n",
      "Processing image 451 out of 820, last 50 images took 544.560751914978 seconds\n",
      "Processing image 501 out of 820, last 50 images took 105.51707911491394 seconds\n",
      "Processing image 551 out of 820, last 50 images took 314.20444893836975 seconds\n",
      "Processing image 601 out of 820, last 50 images took 679.9912004470825 seconds\n",
      "Processing image 651 out of 820, last 50 images took 269.2780387401581 seconds\n",
      "Processing image 701 out of 820, last 50 images took 216.59665393829346 seconds\n",
      "Processing image 751 out of 820, last 50 images took 152.16547012329102 seconds\n",
      "Processing image 801 out of 820, last 50 images took 352.6342980861664 seconds\n"
     ]
    }
   ],
   "source": [
    "import sys\n",
    "sys.path.insert(0, 'D:/coding/Python_Project/DELG/models/research/delf/delf')\n",
    "\n",
    "from __future__ import absolute_import\n",
    "from __future__ import division\n",
    "from __future__ import print_function\n",
    "\n",
    "import os\n",
    "import time\n",
    "import io  # io 모듈: utf-8로\n",
    "\n",
    "from absl import app\n",
    "from absl import flags\n",
    "import numpy as np\n",
    "import tensorflow as tf\n",
    "\n",
    "from google.protobuf import text_format\n",
    "from protos import delf_config_pb2\n",
    "from python import datum_io\n",
    "from python import feature_io\n",
    "from python import utils\n",
    "from python.datasets.revisited_op import dataset\n",
    "from python.examples import extractor\n",
    "from PIL import Image  # 추가: Image 모듈을 사용해 PIL 이미지로 로드하기\n",
    "\n",
    "# feature 저장할 경로 설정하기 (FLAGS 대신 사용함)\n",
    "delf_config_path = 'D:/coding/Python_Project/DELG/models/research/delf/delf/python/delg/r50delg_gld_config.pbtxt'  # FLAGS.delf_config_path\n",
    "# dataset_file_path = 'D:/coding/Python_Project/DELG/gnd_roxford5k.mat'  # FLAGS.dataset_file_path # 단순히 이미지 간 유사도를 비교하는 작업이므로 .mat없이 특징을 추출하면 됨\n",
    "images_dir = 'D:/coding/Python_Project/Crop/yolov5/sample_dataset/cropped_images'  # FLAGS.images_dir\n",
    "output_features_dir = 'D:/coding/Python_Project/DELG/features'  # FLAGS.output_features_dir\n",
    "\n",
    "# 확장자 설정 (FLAGS 대신 상수로 정의함)\n",
    "_DELG_GLOBAL_EXTENSION = '.delg_global'\n",
    "_DELG_LOCAL_EXTENSION = '.delg_local'\n",
    "_IMAGE_EXTENSION = '.jpg'\n",
    "\n",
    "# log status 알림 주기 (FLAGS 대신 상수로 정의함)\n",
    "_STATUS_CHECK_ITERATIONS = 50 # 이미지 50개마다 알림\n",
    "\n",
    "def main(argv):\n",
    "    if len(argv) > 1:\n",
    "        raise RuntimeError('Too many command-line arguments.')\n",
    "\n",
    "    # 데이터셋 파일로부터 이미지 목록 읽기 - .mat 사용 안함\n",
    "#     print('Reading list of images from dataset file...')\n",
    "#     query_list, index_list, ground_truth = dataset.ReadDatasetFile(dataset_file_path)\n",
    "    \n",
    "#     if image_set == 'query':\n",
    "#         image_list = query_list\n",
    "#     else:\n",
    "#         image_list = index_list\n",
    "\n",
    "#     num_images = len(image_list)\n",
    "#     print(f'done! Found {num_images} images')\n",
    "\n",
    "    _IMAGE_EXTENSION = ['.jpg', '.png'] # png도 확장자에 포함\n",
    "\n",
    "    # 이미지 경로 list 만들기\n",
    "    image_list = []\n",
    "    for root, dirs, files in os.walk(images_dir):\n",
    "        for file in files:\n",
    "            if any(file.endswith(ext) for ext in _IMAGE_EXTENSION):\n",
    "                relative_path = os.path.relpath(os.path.join(root, file), images_dir)\n",
    "                image_list.append(relative_path)\n",
    "                \n",
    "    num_images = len(image_list)\n",
    "    print(f'done! Found {num_images} images')\n",
    "\n",
    "    # DelfConfig proto 파싱\n",
    "    config = delf_config_pb2.DelfConfig()\n",
    "    with io.open(delf_config_path, 'r', encoding='utf-8') as f:\n",
    "        text_format.Parse(f.read(), config)\n",
    "\n",
    "    # output 디렉토리 생성\n",
    "    if not tf.io.gfile.exists(output_features_dir):\n",
    "        tf.io.gfile.makedirs(output_features_dir)\n",
    "\n",
    "    extractor_fn = extractor.MakeExtractor(config)\n",
    "\n",
    "    start = time.time()\n",
    "\n",
    "    for i, image_name in enumerate(image_list):\n",
    "        if i == 0:\n",
    "            print('Starting to extract features...')\n",
    "        elif i % _STATUS_CHECK_ITERATIONS == 0:\n",
    "            elapsed = time.time() - start\n",
    "            print(f'Processing image {i+1} out of {num_images}, last {_STATUS_CHECK_ITERATIONS} images took {elapsed} seconds')\n",
    "            start = time.time()\n",
    "\n",
    "        input_image_filename = os.path.join(images_dir, image_name)\n",
    "\n",
    "        # output 디렉토리를 생성\n",
    "        output_global_feature_dir = os.path.join(output_features_dir, os.path.dirname(image_name))\n",
    "        output_local_feature_dir = os.path.join(output_features_dir, os.path.dirname(image_name))\n",
    "\n",
    "        should_skip_global = True\n",
    "        should_skip_local = True\n",
    "\n",
    "        if config.use_global_features:\n",
    "            output_global_feature_filename = os.path.join(output_global_feature_dir, os.path.basename(image_name) + _DELG_GLOBAL_EXTENSION)\n",
    "            if not tf.io.gfile.exists(output_global_feature_filename):\n",
    "                should_skip_global = False\n",
    "\n",
    "        if config.use_local_features:\n",
    "            output_local_feature_filename = os.path.join(output_local_feature_dir, os.path.basename(image_name) + _DELG_LOCAL_EXTENSION)\n",
    "            if not tf.io.gfile.exists(output_local_feature_filename):\n",
    "                should_skip_local = False\n",
    "\n",
    "        if should_skip_global and should_skip_local:\n",
    "            print(f'Skipping {image_name}')\n",
    "            continue\n",
    "\n",
    "        # 이미지 로딩 및 특징 추출\n",
    "        with open(input_image_filename, 'rb') as f:\n",
    "            pil_im = Image.open(io.BytesIO(f.read()))\n",
    "            pil_im = pil_im.convert('RGB')  # 이미지를 RGB로 변환\n",
    "\n",
    "        resize_factor = 1.0\n",
    "        im = np.array(pil_im)\n",
    "\n",
    "        # 특징 추출 및 저장하기\n",
    "        extracted_features = extractor_fn(im, resize_factor)\n",
    "        \n",
    "        if config.use_global_features:\n",
    "            if not tf.io.gfile.exists(output_global_feature_dir):\n",
    "                tf.io.gfile.makedirs(output_global_feature_dir)\n",
    "            global_descriptor = extracted_features['global_descriptor']\n",
    "            datum_io.WriteToFile(global_descriptor, output_global_feature_filename)\n",
    "        \n",
    "        if config.use_local_features:\n",
    "            if not tf.io.gfile.exists(output_local_feature_dir):\n",
    "                tf.io.gfile.makedirs(output_local_feature_dir)\n",
    "            locations = extracted_features['local_features']['locations'] # locations: feature 위치\n",
    "            descriptors = extracted_features['local_features']['descriptors'] # descriptors: feature descriptor\n",
    "            feature_scales = extracted_features['local_features']['scales'] # scales: feature 크기\n",
    "            attention = extracted_features['local_features']['attention'] # attention: attention 점수. 얼마나 집중되었는가 점수로.\n",
    "            feature_io.WriteToFile(output_local_feature_filename, locations, feature_scales, descriptors, attention) # 넘파이 ndarray로 값이 전부 0으로 넘어가는데 뭔진 모르겠음\n",
    "\n",
    "if __name__ == '__main__':\n",
    "    main([])"
   ]
  },
  {
   "cell_type": "code",
   "execution_count": 106,
   "id": "8aad2f76",
   "metadata": {},
   "outputs": [],
   "source": [
    "# 에러발생: cannot import name 'runtime_version' from 'google.protobuf' (C:\\Users\\User\\anaconda3\\Lib\\site-packages\\google\\protobuf\\__init__.py)\n",
    "# protobuf 버전 호환 문제 => 최신 버전으로 업데이트함\n",
    "# pip install --upgrade protobuf\n",
    "\n",
    "# Requirement already satisfied: protobuf in c:\\users\\user\\anaconda3\\lib\\site-packages (3.20.3)\n",
    "# Collecting protobuf\n",
    "#   Using cached protobuf-5.27.3-cp310-abi3-win_amd64.whl.metadata (592 bytes)\n",
    "# Using cached protobuf-5.27.3-cp310-abi3-win_amd64.whl (426 kB)\n",
    "# Installing collected packages: protobuf\n",
    "#   Attempting uninstall: protobuf\n",
    "#     Found existing installation: protobuf 3.20.3\n",
    "#     Uninstalling protobuf-3.20.3:\n",
    "#       Successfully uninstalled protobuf-3.20.3\n",
    "# ERROR: pip's dependency resolver does not currently take into account all the packages that are installed. This behaviour is the source of the following dependency conflicts.\n",
    "# tensorflow-intel 2.17.0 requires protobuf!=4.21.0,!=4.21.1,!=4.21.2,!=4.21.3,!=4.21.4,!=4.21.5,<5.0.0dev,>=3.20.3, but you have protobuf 5.27.3 which is incompatible.\n",
    "# Successfully installed protobuf-5.27.3\n",
    "# 버전 문제는 없어졌다. 근데 설치과정에서 위와 같은 에러가 났다.\n",
    "# 위 에러는 pip install protobuf==3.20.3 를 하면 해결된다."
   ]
  },
  {
   "cell_type": "code",
   "execution_count": 114,
   "id": "42001101",
   "metadata": {},
   "outputs": [],
   "source": [
    "# 이번엔 ModuleNotFoundError: No module named 'delf.python'\n",
    "# path 설정을 다시 해준다."
   ]
  },
  {
   "cell_type": "code",
   "execution_count": 115,
   "id": "015dd636",
   "metadata": {},
   "outputs": [
    {
     "name": "stdout",
     "output_type": "stream",
     "text": [
      "['D:/coding/Python_Project/DELG/models/research/delf/delf', 'D:/coding/Python_Project/DELG/models/research/delf/delf', 'D:/coding/Python_Project/DELG/models/research/delf/delf', 'D:/coding/Python_Project/DELG/models/research/delf/delf', 'D:/coding/Python_Project/DELG/models/research/delf/delf', 'D:/coding/Python_Project/DELG/models/research/delf/delf', 'D:/coding/Python_Project/DELG/models/research/delf/delf', 'D:/coding/Python_Project/DELG/models/research/delf/delf', 'D:/coding/Python_Project/DELG/models/research/delf/delf', 'D:/coding/Python_Project/DELG/models/research/delf/delf', 'D:/coding/Python_Project/DELG/models/research/delf/delf', 'D:/coding/Python_Project/DELG/models/research/delf/delf', 'D:/coding/Python_Project/DELG/models/research/delf/delf', 'D:/coding/Python_Project/DELG/models/research/delf/delf', 'D:/coding/Python_Project/DELG/models/research/delf/delf', 'D:/coding/Python_Project/DELG/models/research/delf/delf', 'D:/coding/Python_Project/DELG/models/research/delf/delf', 'D:/coding/Python_Project/DELG/models/research/delf/delf', 'D:/coding/Python_Project/DELG/models/research/delf/delf', 'D:/coding/Python_Project/DELG/models/research/delf/delf', 'D:/coding/Python_Project/DELG/models/research/delf/delf', 'D:/coding/Python_Project/DELG/models/research/delf/delf', 'D:/coding/Python_Project/DELG/models/research/delf/delf', 'D:/coding/Python_Project/DELG/models/research/delf/delf', 'D:/coding/Python_Project/DELG/models/research/delf', 'D:/coding/Python_Project/DELG/models/research/delf', 'D:/coding/Python_Project/DELG/models/research/delf/delf', 'D:/coding/Python_Project/DELG/models/research/delf', 'D:/coding/Python_Project/DELG/models/research/delf/delf', 'D:/coding/Python_Project/DELG/models/research/delf/delf', 'D:/coding/Python_Project/DELG/models/research/delf/delf', 'D:/coding/Python_Project/DELG/models/research/delf/delf', 'D:/coding/Python_Project/DELG/models/research/delf/delf', 'D:/coding/Python_Project/DELG/models/research/delf/delf', 'D:/coding/Python_Project/DELG/models/research/delf/delf', 'D:/coding/Python_Project/DELG/models/research/delf/delf', 'D:/coding/Python_Project/DELG/models/research/delf/delf', 'D:/coding/Python_Project/DELG/models/research/delf', 'D:/coding/Python_Project/DELG/models/research/delf', 'D:/coding/Python_Project/DELG/models/research/delf', 'D:\\\\coding\\\\Python_Project\\\\DELG\\\\delf\\\\protos', 'D:/coding/Python_Project/DELG/models/research/delf/delf', 'D:/coding/Python_Project/DELG/models/research/delf/delf', 'D:/coding/Python_Project/DELG/models/research/delf/delf', 'D:/coding/Python_Project/DELG/models/research/delf/delf', 'D:/coding/Python_Project/DELG/models/research/delf/delf', 'D:/coding/Python_Project/DELG/models/research/delf/delf', 'D:/coding/Python_Project/DELG/models/research/delf/delf', 'D:/coding/Python_Project/DELG/models/research/delf/delf', 'D:/coding/Python_Project/DELG/models/research/delf', 'D:/coding/Python_Project/DELG/models/research/delf/delf', 'D:/coding/Python_Project/DELG/models/research/delf', 'D:/coding/Python_Project/DELG/models/research/delf', 'D:/coding/Python_Project/DELG/models/research/delf', 'D:/coding/Python_Project/DELG/models/research/delf/delf', 'D:/coding/Python_Project/DELG/models/research/delf/delf', 'D:/coding/Python_Project/DELG/models/research/delf/delf', 'D:/coding/Python_Project/DELG/models/research/delf/delf', 'D:/coding/Python_Project/DELG/models/research/delf/delf', 'D:/coding/Python_Project/DELG/models/research/delf/delf', 'D:/coding/Python_Project/DELG/models/research/delf', 'D:/coding/Python_Project/DELG/models/research/delf', 'D:\\\\coding\\\\Python_Project\\\\DELG', 'C:\\\\Users\\\\User\\\\anaconda3\\\\python311.zip', 'C:\\\\Users\\\\User\\\\anaconda3\\\\DLLs', 'C:\\\\Users\\\\User\\\\anaconda3\\\\Lib', 'C:\\\\Users\\\\User\\\\anaconda3', '', 'C:\\\\Users\\\\User\\\\anaconda3\\\\Lib\\\\site-packages', 'd:\\\\coding\\\\python_project\\\\delg', 'C:\\\\Users\\\\User\\\\anaconda3\\\\Lib\\\\site-packages\\\\win32', 'C:\\\\Users\\\\User\\\\anaconda3\\\\Lib\\\\site-packages\\\\win32\\\\lib', 'C:\\\\Users\\\\User\\\\anaconda3\\\\Lib\\\\site-packages\\\\Pythonwin', 'D:/coding/Python_Project/DELG/models/research/delf/delf/python', 'D:/coding/Python_Project/DELG/models/research/delf/delf/python', 'D:/coding/Python_Project/DELG/models/research/delf/delf/python', 'D:/coding/Python_Project/DELG/models/research/delf/delf/python', 'D:/coding/Python_Project/DELG/models/research/delf/delf/python', 'D:/coding/Python_Project/DELG/models/research/delf', 'D:/coding/Python_Project/DELG/models/research/delf', 'D:/coding/Python_Project/DELG/models/research/delf', 'D:/coding/Python_Project/DELG/models/research/delf', 'D:/coding/Python_Project/DELG/models/research/delf', 'D:/coding/Python_Project/DELG/models/research']\n"
     ]
    }
   ],
   "source": [
    "# 시스템 path 확인\n",
    "import sys\n",
    "print(sys.path)"
   ]
  },
  {
   "cell_type": "code",
   "execution_count": null,
   "id": "5bf92bc4",
   "metadata": {},
   "outputs": [],
   "source": []
  }
 ],
 "metadata": {
  "kernelspec": {
   "display_name": "Python 3 (ipykernel)",
   "language": "python",
   "name": "python3"
  },
  "language_info": {
   "codemirror_mode": {
    "name": "ipython",
    "version": 3
   },
   "file_extension": ".py",
   "mimetype": "text/x-python",
   "name": "python",
   "nbconvert_exporter": "python",
   "pygments_lexer": "ipython3",
   "version": "3.11.5"
  }
 },
 "nbformat": 4,
 "nbformat_minor": 5
}
